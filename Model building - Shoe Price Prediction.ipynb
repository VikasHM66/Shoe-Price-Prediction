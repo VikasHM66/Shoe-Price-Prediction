{
 "cells": [
  {
   "cell_type": "markdown",
   "metadata": {},
   "source": [
    "# *Case Study - Assessment - `Shoes price prediction`*"
   ]
  },
  {
   "cell_type": "markdown",
   "metadata": {},
   "source": [
    "## *Objective:*\n",
    "### *`Predicting shoes price for the customers of Zshoes and deploy with the help of flask.`*\n"
   ]
  },
  {
   "cell_type": "markdown",
   "metadata": {},
   "source": [
    "## *Problem Statement:*"
   ]
  },
  {
   "cell_type": "markdown",
   "metadata": {},
   "source": [
    "*Zshoes.com is one of the famous shoe manufacturers of India and has business in almost every country in Asia and Europe. They are one of the best choices of all the athletics and they make the best shoes for running. Due to pandemic, they are facing a loss as Zshoes are a bit expensive. They want to know the correct price of all types of shoes that they are manufacturing so that they won’t face any loss and at the sametime customers also buy the shoes. As a machine learning engineer, we have to build a shoe-price prediction app that can predict the correct shoe price by taking inputs like freight_value,payment_type, etc.*"
   ]
  },
  {
   "cell_type": "markdown",
   "metadata": {},
   "source": [
    "## *Feature Details:*\n",
    "- **order_item_id:**      Order id of the shoe.\n",
    "- **price:**         price of the shoe(Target)\n",
    "- **freight_value:** freight_value of the shoe\n",
    "- **payment_sequential:** Sequence of payment\n",
    "- **payment_type:** types of payment\n",
    "- **payment_installments:** Installments of payments\n",
    "- **payment_value:** Value of payment"
   ]
  },
  {
   "cell_type": "markdown",
   "metadata": {},
   "source": [
    "##### Lets import the required libraries."
   ]
  },
  {
   "cell_type": "code",
   "execution_count": 756,
   "metadata": {},
   "outputs": [],
   "source": [
    "import numpy as np\n",
    "import pandas as pd\n",
    "import seaborn as sns\n",
    "import matplotlib.pyplot as plt\n",
    "import warnings\n",
    "warnings.filterwarnings(action='ignore')\n",
    "\n",
    "import statsmodels.api as sm\n",
    "from sklearn.model_selection import cross_val_score,KFold\n",
    "from sklearn.model_selection import train_test_split\n",
    "from sklearn.preprocessing import StandardScaler\n",
    "from sklearn.metrics import r2_score,mean_absolute_error,mean_squared_error\n",
    "from sklearn.linear_model import LinearRegression\n",
    "from sklearn.tree import DecisionTreeRegressor\n",
    "from sklearn.ensemble import RandomForestRegressor\n",
    "from sklearn.neighbors import KNeighborsRegressor\n",
    "from sklearn.ensemble import AdaBoostRegressor,GradientBoostingRegressor\n",
    "from sklearn.model_selection import GridSearchCV\n",
    "import xgboost\n",
    "from xgboost import XGBRegressor"
   ]
  },
  {
   "cell_type": "markdown",
   "metadata": {},
   "source": [
    "##### Lets load the dataset."
   ]
  },
  {
   "cell_type": "code",
   "execution_count": 757,
   "metadata": {},
   "outputs": [
    {
     "data": {
      "text/html": [
       "<div>\n",
       "<style scoped>\n",
       "    .dataframe tbody tr th:only-of-type {\n",
       "        vertical-align: middle;\n",
       "    }\n",
       "\n",
       "    .dataframe tbody tr th {\n",
       "        vertical-align: top;\n",
       "    }\n",
       "\n",
       "    .dataframe thead th {\n",
       "        text-align: right;\n",
       "    }\n",
       "</style>\n",
       "<table border=\"1\" class=\"dataframe\">\n",
       "  <thead>\n",
       "    <tr style=\"text-align: right;\">\n",
       "      <th></th>\n",
       "      <th>order_item_id</th>\n",
       "      <th>price</th>\n",
       "      <th>freight_value</th>\n",
       "      <th>payment_sequential</th>\n",
       "      <th>payment_type</th>\n",
       "      <th>payment_installments</th>\n",
       "      <th>payment_value</th>\n",
       "    </tr>\n",
       "  </thead>\n",
       "  <tbody>\n",
       "    <tr>\n",
       "      <th>0</th>\n",
       "      <td>1</td>\n",
       "      <td>58.90</td>\n",
       "      <td>13.29</td>\n",
       "      <td>1</td>\n",
       "      <td>1</td>\n",
       "      <td>2</td>\n",
       "      <td>72.19</td>\n",
       "    </tr>\n",
       "    <tr>\n",
       "      <th>1</th>\n",
       "      <td>1</td>\n",
       "      <td>239.90</td>\n",
       "      <td>19.93</td>\n",
       "      <td>1</td>\n",
       "      <td>1</td>\n",
       "      <td>3</td>\n",
       "      <td>259.83</td>\n",
       "    </tr>\n",
       "    <tr>\n",
       "      <th>2</th>\n",
       "      <td>1</td>\n",
       "      <td>199.00</td>\n",
       "      <td>17.87</td>\n",
       "      <td>1</td>\n",
       "      <td>1</td>\n",
       "      <td>5</td>\n",
       "      <td>216.87</td>\n",
       "    </tr>\n",
       "    <tr>\n",
       "      <th>3</th>\n",
       "      <td>1</td>\n",
       "      <td>12.99</td>\n",
       "      <td>12.79</td>\n",
       "      <td>1</td>\n",
       "      <td>1</td>\n",
       "      <td>2</td>\n",
       "      <td>25.78</td>\n",
       "    </tr>\n",
       "    <tr>\n",
       "      <th>4</th>\n",
       "      <td>1</td>\n",
       "      <td>199.90</td>\n",
       "      <td>18.14</td>\n",
       "      <td>1</td>\n",
       "      <td>1</td>\n",
       "      <td>3</td>\n",
       "      <td>218.04</td>\n",
       "    </tr>\n",
       "  </tbody>\n",
       "</table>\n",
       "</div>"
      ],
      "text/plain": [
       "   order_item_id   price  ...  payment_installments  payment_value\n",
       "0              1   58.90  ...                     2          72.19\n",
       "1              1  239.90  ...                     3         259.83\n",
       "2              1  199.00  ...                     5         216.87\n",
       "3              1   12.99  ...                     2          25.78\n",
       "4              1  199.90  ...                     3         218.04\n",
       "\n",
       "[5 rows x 7 columns]"
      ]
     },
     "execution_count": 757,
     "metadata": {},
     "output_type": "execute_result"
    }
   ],
   "source": [
    "df = pd.read_csv('product_data.csv')\n",
    "df.head()"
   ]
  },
  {
   "cell_type": "code",
   "execution_count": 758,
   "metadata": {},
   "outputs": [],
   "source": [
    "df1 = df.copy()"
   ]
  },
  {
   "cell_type": "markdown",
   "metadata": {},
   "source": [
    "###### Lets separate the dependent and independent variables."
   ]
  },
  {
   "cell_type": "code",
   "execution_count": 759,
   "metadata": {},
   "outputs": [],
   "source": [
    "X = df.drop('price',axis=1)\n",
    "y = df['price']"
   ]
  },
  {
   "cell_type": "markdown",
   "metadata": {},
   "source": [
    "## *Exploratory Data Analysis.*"
   ]
  },
  {
   "cell_type": "markdown",
   "metadata": {},
   "source": [
    "##### Lets check the shape of the dataset."
   ]
  },
  {
   "cell_type": "code",
   "execution_count": 760,
   "metadata": {},
   "outputs": [
    {
     "data": {
      "text/plain": [
       "(101335, 7)"
      ]
     },
     "execution_count": 760,
     "metadata": {},
     "output_type": "execute_result"
    }
   ],
   "source": [
    "df.shape"
   ]
  },
  {
   "cell_type": "markdown",
   "metadata": {},
   "source": [
    "###### Lets check the datatypes of the attributes."
   ]
  },
  {
   "cell_type": "code",
   "execution_count": 761,
   "metadata": {},
   "outputs": [
    {
     "name": "stdout",
     "output_type": "stream",
     "text": [
      "<class 'pandas.core.frame.DataFrame'>\n",
      "RangeIndex: 101335 entries, 0 to 101334\n",
      "Data columns (total 7 columns):\n",
      " #   Column                Non-Null Count   Dtype  \n",
      "---  ------                --------------   -----  \n",
      " 0   order_item_id         101335 non-null  int64  \n",
      " 1   price                 101335 non-null  float64\n",
      " 2   freight_value         101335 non-null  float64\n",
      " 3   payment_sequential    101335 non-null  int64  \n",
      " 4   payment_type          101335 non-null  int64  \n",
      " 5   payment_installments  101335 non-null  int64  \n",
      " 6   payment_value         101335 non-null  float64\n",
      "dtypes: float64(3), int64(4)\n",
      "memory usage: 5.4 MB\n"
     ]
    }
   ],
   "source": [
    "df.info()"
   ]
  },
  {
   "cell_type": "markdown",
   "metadata": {},
   "source": [
    "##### Lets check the descriptive statistics of the attributes."
   ]
  },
  {
   "cell_type": "code",
   "execution_count": 762,
   "metadata": {},
   "outputs": [
    {
     "data": {
      "text/html": [
       "<div>\n",
       "<style scoped>\n",
       "    .dataframe tbody tr th:only-of-type {\n",
       "        vertical-align: middle;\n",
       "    }\n",
       "\n",
       "    .dataframe tbody tr th {\n",
       "        vertical-align: top;\n",
       "    }\n",
       "\n",
       "    .dataframe thead th {\n",
       "        text-align: right;\n",
       "    }\n",
       "</style>\n",
       "<table border=\"1\" class=\"dataframe\">\n",
       "  <thead>\n",
       "    <tr style=\"text-align: right;\">\n",
       "      <th></th>\n",
       "      <th>order_item_id</th>\n",
       "      <th>price</th>\n",
       "      <th>freight_value</th>\n",
       "      <th>payment_sequential</th>\n",
       "      <th>payment_type</th>\n",
       "      <th>payment_installments</th>\n",
       "      <th>payment_value</th>\n",
       "    </tr>\n",
       "  </thead>\n",
       "  <tbody>\n",
       "    <tr>\n",
       "      <th>count</th>\n",
       "      <td>101335.000000</td>\n",
       "      <td>101335.000000</td>\n",
       "      <td>101335.000000</td>\n",
       "      <td>101335.000000</td>\n",
       "      <td>101335.000000</td>\n",
       "      <td>101335.000000</td>\n",
       "      <td>101335.000000</td>\n",
       "    </tr>\n",
       "    <tr>\n",
       "      <th>mean</th>\n",
       "      <td>1.205280</td>\n",
       "      <td>79.818332</td>\n",
       "      <td>16.126716</td>\n",
       "      <td>1.089495</td>\n",
       "      <td>1.352040</td>\n",
       "      <td>2.671703</td>\n",
       "      <td>124.124508</td>\n",
       "    </tr>\n",
       "    <tr>\n",
       "      <th>std</th>\n",
       "      <td>0.715244</td>\n",
       "      <td>56.057932</td>\n",
       "      <td>5.943237</td>\n",
       "      <td>0.689100</td>\n",
       "      <td>0.652362</td>\n",
       "      <td>2.524321</td>\n",
       "      <td>124.418064</td>\n",
       "    </tr>\n",
       "    <tr>\n",
       "      <th>min</th>\n",
       "      <td>1.000000</td>\n",
       "      <td>0.850000</td>\n",
       "      <td>0.000000</td>\n",
       "      <td>1.000000</td>\n",
       "      <td>1.000000</td>\n",
       "      <td>0.000000</td>\n",
       "      <td>0.000000</td>\n",
       "    </tr>\n",
       "    <tr>\n",
       "      <th>25%</th>\n",
       "      <td>1.000000</td>\n",
       "      <td>35.990000</td>\n",
       "      <td>12.690000</td>\n",
       "      <td>1.000000</td>\n",
       "      <td>1.000000</td>\n",
       "      <td>1.000000</td>\n",
       "      <td>55.550000</td>\n",
       "    </tr>\n",
       "    <tr>\n",
       "      <th>50%</th>\n",
       "      <td>1.000000</td>\n",
       "      <td>63.900000</td>\n",
       "      <td>15.470000</td>\n",
       "      <td>1.000000</td>\n",
       "      <td>1.000000</td>\n",
       "      <td>1.000000</td>\n",
       "      <td>95.400000</td>\n",
       "    </tr>\n",
       "    <tr>\n",
       "      <th>75%</th>\n",
       "      <td>1.000000</td>\n",
       "      <td>109.900000</td>\n",
       "      <td>18.670000</td>\n",
       "      <td>1.000000</td>\n",
       "      <td>2.000000</td>\n",
       "      <td>3.000000</td>\n",
       "      <td>155.840000</td>\n",
       "    </tr>\n",
       "    <tr>\n",
       "      <th>max</th>\n",
       "      <td>21.000000</td>\n",
       "      <td>270.000000</td>\n",
       "      <td>36.000000</td>\n",
       "      <td>26.000000</td>\n",
       "      <td>4.000000</td>\n",
       "      <td>24.000000</td>\n",
       "      <td>3195.730000</td>\n",
       "    </tr>\n",
       "  </tbody>\n",
       "</table>\n",
       "</div>"
      ],
      "text/plain": [
       "       order_item_id          price  ...  payment_installments  payment_value\n",
       "count  101335.000000  101335.000000  ...         101335.000000  101335.000000\n",
       "mean        1.205280      79.818332  ...              2.671703     124.124508\n",
       "std         0.715244      56.057932  ...              2.524321     124.418064\n",
       "min         1.000000       0.850000  ...              0.000000       0.000000\n",
       "25%         1.000000      35.990000  ...              1.000000      55.550000\n",
       "50%         1.000000      63.900000  ...              1.000000      95.400000\n",
       "75%         1.000000     109.900000  ...              3.000000     155.840000\n",
       "max        21.000000     270.000000  ...             24.000000    3195.730000\n",
       "\n",
       "[8 rows x 7 columns]"
      ]
     },
     "execution_count": 762,
     "metadata": {},
     "output_type": "execute_result"
    }
   ],
   "source": [
    "df.describe()"
   ]
  },
  {
   "cell_type": "markdown",
   "metadata": {},
   "source": [
    "###### Lets check the relationship associated between the variables."
   ]
  },
  {
   "cell_type": "code",
   "execution_count": 763,
   "metadata": {},
   "outputs": [
    {
     "data": {
      "image/png": "[encoded data removed]",
      "text/plain": [
       "<Figure size 1296x360 with 2 Axes>"
      ]
     },
     "metadata": {
      "needs_background": "light"
     },
     "output_type": "display_data"
    }
   ],
   "source": [
    "plt.figure(figsize=[18,5])\n",
    "sns.heatmap(df.corr(),annot=True,cmap='viridis')\n",
    "plt.show()"
   ]
  },
  {
   "cell_type": "markdown",
   "metadata": {},
   "source": [
    "## *`INFERENCE.`*"
   ]
  },
  {
   "cell_type": "markdown",
   "metadata": {},
   "source": [
    "- **The independent variables payment_value is having the strong positive correlation with the target variable price i.e.,0.5**\n",
    "- **The independent variables freight_value & payment_installments are having moderate positive correlation with the target variable price.**\n",
    "- **The independent variables order_item_id,payment_sequential & payment_type are having weak negative correaltion with the target variable price.**\n",
    "- **The indepenedent variables order_item_id & payment_value, payment_type & payment_sequential, payment_value & payment_installments are correlated with eachother.**"
   ]
  },
  {
   "cell_type": "markdown",
   "metadata": {},
   "source": [
    "###### Lets check for multicollinearity between the independent variables."
   ]
  },
  {
   "cell_type": "code",
   "execution_count": 764,
   "metadata": {},
   "outputs": [
    {
     "data": {
      "text/html": [
       "<div>\n",
       "<style scoped>\n",
       "    .dataframe tbody tr th:only-of-type {\n",
       "        vertical-align: middle;\n",
       "    }\n",
       "\n",
       "    .dataframe tbody tr th {\n",
       "        vertical-align: top;\n",
       "    }\n",
       "\n",
       "    .dataframe thead th {\n",
       "        text-align: right;\n",
       "    }\n",
       "</style>\n",
       "<table border=\"1\" class=\"dataframe\">\n",
       "  <thead>\n",
       "    <tr style=\"text-align: right;\">\n",
       "      <th></th>\n",
       "      <th>vif</th>\n",
       "    </tr>\n",
       "  </thead>\n",
       "  <tbody>\n",
       "    <tr>\n",
       "      <th>order_item_id</th>\n",
       "      <td>4.481813</td>\n",
       "    </tr>\n",
       "    <tr>\n",
       "      <th>freight_value</th>\n",
       "      <td>5.664716</td>\n",
       "    </tr>\n",
       "    <tr>\n",
       "      <th>payment_sequential</th>\n",
       "      <td>3.798302</td>\n",
       "    </tr>\n",
       "    <tr>\n",
       "      <th>payment_type</th>\n",
       "      <td>5.222550</td>\n",
       "    </tr>\n",
       "    <tr>\n",
       "      <th>payment_installments</th>\n",
       "      <td>2.366340</td>\n",
       "    </tr>\n",
       "    <tr>\n",
       "      <th>payment_value</th>\n",
       "      <td>2.974985</td>\n",
       "    </tr>\n",
       "  </tbody>\n",
       "</table>\n",
       "</div>"
      ],
      "text/plain": [
       "                           vif\n",
       "order_item_id         4.481813\n",
       "freight_value         5.664716\n",
       "payment_sequential    3.798302\n",
       "payment_type          5.222550\n",
       "payment_installments  2.366340\n",
       "payment_value         2.974985"
      ]
     },
     "execution_count": 764,
     "metadata": {},
     "output_type": "execute_result"
    }
   ],
   "source": [
    "from statsmodels.stats.outliers_influence import variance_inflation_factor as vif\n",
    "\n",
    "vf = [vif(X.values, i) for i in range(X.shape[1])]\n",
    "pd.DataFrame(vf, index=X.columns, columns=['vif'])"
   ]
  },
  {
   "cell_type": "markdown",
   "metadata": {},
   "source": [
    "## *`INFERENCE.`*"
   ]
  },
  {
   "cell_type": "markdown",
   "metadata": {},
   "source": [
    "- **Since for all the features the vif value is not greater than 9.**\n",
    "- **Hence we can say that there is no multicollinearity exists.**"
   ]
  },
  {
   "cell_type": "markdown",
   "metadata": {},
   "source": [
    "###### Lets check for missing values in the dataset."
   ]
  },
  {
   "cell_type": "code",
   "execution_count": 765,
   "metadata": {},
   "outputs": [
    {
     "data": {
      "text/plain": [
       "order_item_id           0\n",
       "price                   0\n",
       "freight_value           0\n",
       "payment_sequential      0\n",
       "payment_type            0\n",
       "payment_installments    0\n",
       "payment_value           0\n",
       "dtype: int64"
      ]
     },
     "execution_count": 765,
     "metadata": {},
     "output_type": "execute_result"
    }
   ],
   "source": [
    "df.isnull().sum()"
   ]
  },
  {
   "cell_type": "markdown",
   "metadata": {},
   "source": [
    "## *`INFERENCE.`*"
   ]
  },
  {
   "cell_type": "markdown",
   "metadata": {},
   "source": [
    "- **There are no missing values in the dataset.**"
   ]
  },
  {
   "cell_type": "markdown",
   "metadata": {},
   "source": [
    "###### Lets explore attributes individually."
   ]
  },
  {
   "cell_type": "code",
   "execution_count": 766,
   "metadata": {},
   "outputs": [
    {
     "data": {
      "text/html": [
       "<div>\n",
       "<style scoped>\n",
       "    .dataframe tbody tr th:only-of-type {\n",
       "        vertical-align: middle;\n",
       "    }\n",
       "\n",
       "    .dataframe tbody tr th {\n",
       "        vertical-align: top;\n",
       "    }\n",
       "\n",
       "    .dataframe thead th {\n",
       "        text-align: right;\n",
       "    }\n",
       "</style>\n",
       "<table border=\"1\" class=\"dataframe\">\n",
       "  <thead>\n",
       "    <tr style=\"text-align: right;\">\n",
       "      <th></th>\n",
       "      <th>order_item_id</th>\n",
       "      <th>price</th>\n",
       "      <th>freight_value</th>\n",
       "      <th>payment_sequential</th>\n",
       "      <th>payment_type</th>\n",
       "      <th>payment_installments</th>\n",
       "      <th>payment_value</th>\n",
       "    </tr>\n",
       "  </thead>\n",
       "  <tbody>\n",
       "    <tr>\n",
       "      <th>27701</th>\n",
       "      <td>1</td>\n",
       "      <td>56.99</td>\n",
       "      <td>14.15</td>\n",
       "      <td>3</td>\n",
       "      <td>3</td>\n",
       "      <td>1</td>\n",
       "      <td>0.0</td>\n",
       "    </tr>\n",
       "    <tr>\n",
       "      <th>43093</th>\n",
       "      <td>1</td>\n",
       "      <td>94.00</td>\n",
       "      <td>28.04</td>\n",
       "      <td>4</td>\n",
       "      <td>3</td>\n",
       "      <td>1</td>\n",
       "      <td>0.0</td>\n",
       "    </tr>\n",
       "    <tr>\n",
       "      <th>55184</th>\n",
       "      <td>1</td>\n",
       "      <td>59.00</td>\n",
       "      <td>15.16</td>\n",
       "      <td>4</td>\n",
       "      <td>3</td>\n",
       "      <td>1</td>\n",
       "      <td>0.0</td>\n",
       "    </tr>\n",
       "  </tbody>\n",
       "</table>\n",
       "</div>"
      ],
      "text/plain": [
       "       order_item_id  price  ...  payment_installments  payment_value\n",
       "27701              1  56.99  ...                     1            0.0\n",
       "43093              1  94.00  ...                     1            0.0\n",
       "55184              1  59.00  ...                     1            0.0\n",
       "\n",
       "[3 rows x 7 columns]"
      ]
     },
     "execution_count": 766,
     "metadata": {},
     "output_type": "execute_result"
    }
   ],
   "source": [
    "df[df['payment_value']==0]"
   ]
  },
  {
   "cell_type": "markdown",
   "metadata": {},
   "source": [
    "## *`INFERENCE.`*"
   ]
  },
  {
   "cell_type": "markdown",
   "metadata": {},
   "source": [
    "- **A we can see there are three records the payment value is zero.**\n",
    "- **Payment value cannot be zero, So we can impute the payment_value by adding the price and freight value.**"
   ]
  },
  {
   "cell_type": "code",
   "execution_count": 771,
   "metadata": {
    "scrolled": true
   },
   "outputs": [
    {
     "data": {
      "text/html": [
       "<div>\n",
       "<style scoped>\n",
       "    .dataframe tbody tr th:only-of-type {\n",
       "        vertical-align: middle;\n",
       "    }\n",
       "\n",
       "    .dataframe tbody tr th {\n",
       "        vertical-align: top;\n",
       "    }\n",
       "\n",
       "    .dataframe thead th {\n",
       "        text-align: right;\n",
       "    }\n",
       "</style>\n",
       "<table border=\"1\" class=\"dataframe\">\n",
       "  <thead>\n",
       "    <tr style=\"text-align: right;\">\n",
       "      <th></th>\n",
       "      <th>order_item_id</th>\n",
       "      <th>price</th>\n",
       "      <th>freight_value</th>\n",
       "      <th>payment_sequential</th>\n",
       "      <th>payment_type</th>\n",
       "      <th>payment_installments</th>\n",
       "      <th>payment_value</th>\n",
       "    </tr>\n",
       "  </thead>\n",
       "  <tbody>\n",
       "    <tr>\n",
       "      <th>100</th>\n",
       "      <td>1</td>\n",
       "      <td>99.9</td>\n",
       "      <td>0.0</td>\n",
       "      <td>1</td>\n",
       "      <td>2</td>\n",
       "      <td>1</td>\n",
       "      <td>99.9</td>\n",
       "    </tr>\n",
       "    <tr>\n",
       "      <th>232</th>\n",
       "      <td>1</td>\n",
       "      <td>69.9</td>\n",
       "      <td>0.0</td>\n",
       "      <td>1</td>\n",
       "      <td>1</td>\n",
       "      <td>1</td>\n",
       "      <td>69.9</td>\n",
       "    </tr>\n",
       "    <tr>\n",
       "      <th>443</th>\n",
       "      <td>1</td>\n",
       "      <td>99.9</td>\n",
       "      <td>0.0</td>\n",
       "      <td>1</td>\n",
       "      <td>2</td>\n",
       "      <td>1</td>\n",
       "      <td>99.9</td>\n",
       "    </tr>\n",
       "    <tr>\n",
       "      <th>467</th>\n",
       "      <td>1</td>\n",
       "      <td>53.9</td>\n",
       "      <td>0.0</td>\n",
       "      <td>1</td>\n",
       "      <td>1</td>\n",
       "      <td>6</td>\n",
       "      <td>107.8</td>\n",
       "    </tr>\n",
       "    <tr>\n",
       "      <th>468</th>\n",
       "      <td>2</td>\n",
       "      <td>53.9</td>\n",
       "      <td>0.0</td>\n",
       "      <td>1</td>\n",
       "      <td>1</td>\n",
       "      <td>6</td>\n",
       "      <td>107.8</td>\n",
       "    </tr>\n",
       "    <tr>\n",
       "      <th>...</th>\n",
       "      <td>...</td>\n",
       "      <td>...</td>\n",
       "      <td>...</td>\n",
       "      <td>...</td>\n",
       "      <td>...</td>\n",
       "      <td>...</td>\n",
       "      <td>...</td>\n",
       "    </tr>\n",
       "    <tr>\n",
       "      <th>99878</th>\n",
       "      <td>1</td>\n",
       "      <td>53.9</td>\n",
       "      <td>0.0</td>\n",
       "      <td>1</td>\n",
       "      <td>2</td>\n",
       "      <td>1</td>\n",
       "      <td>53.9</td>\n",
       "    </tr>\n",
       "    <tr>\n",
       "      <th>100236</th>\n",
       "      <td>1</td>\n",
       "      <td>219.0</td>\n",
       "      <td>0.0</td>\n",
       "      <td>1</td>\n",
       "      <td>1</td>\n",
       "      <td>2</td>\n",
       "      <td>219.0</td>\n",
       "    </tr>\n",
       "    <tr>\n",
       "      <th>100377</th>\n",
       "      <td>1</td>\n",
       "      <td>106.9</td>\n",
       "      <td>0.0</td>\n",
       "      <td>1</td>\n",
       "      <td>1</td>\n",
       "      <td>2</td>\n",
       "      <td>106.9</td>\n",
       "    </tr>\n",
       "    <tr>\n",
       "      <th>100903</th>\n",
       "      <td>1</td>\n",
       "      <td>195.0</td>\n",
       "      <td>0.0</td>\n",
       "      <td>1</td>\n",
       "      <td>1</td>\n",
       "      <td>5</td>\n",
       "      <td>195.0</td>\n",
       "    </tr>\n",
       "    <tr>\n",
       "      <th>101299</th>\n",
       "      <td>1</td>\n",
       "      <td>112.9</td>\n",
       "      <td>0.0</td>\n",
       "      <td>1</td>\n",
       "      <td>1</td>\n",
       "      <td>3</td>\n",
       "      <td>112.9</td>\n",
       "    </tr>\n",
       "  </tbody>\n",
       "</table>\n",
       "<p>389 rows × 7 columns</p>\n",
       "</div>"
      ],
      "text/plain": [
       "        order_item_id  price  ...  payment_installments  payment_value\n",
       "100                 1   99.9  ...                     1           99.9\n",
       "232                 1   69.9  ...                     1           69.9\n",
       "443                 1   99.9  ...                     1           99.9\n",
       "467                 1   53.9  ...                     6          107.8\n",
       "468                 2   53.9  ...                     6          107.8\n",
       "...               ...    ...  ...                   ...            ...\n",
       "99878               1   53.9  ...                     1           53.9\n",
       "100236              1  219.0  ...                     2          219.0\n",
       "100377              1  106.9  ...                     2          106.9\n",
       "100903              1  195.0  ...                     5          195.0\n",
       "101299              1  112.9  ...                     3          112.9\n",
       "\n",
       "[389 rows x 7 columns]"
      ]
     },
     "execution_count": 771,
     "metadata": {},
     "output_type": "execute_result"
    }
   ],
   "source": [
    "df[df['freight_value']==0]"
   ]
  },
  {
   "cell_type": "markdown",
   "metadata": {},
   "source": [
    "## *`INFERENCE.`*"
   ]
  },
  {
   "cell_type": "markdown",
   "metadata": {},
   "source": [
    "- **Here we can see the there are 389 entries having freight value as zero.**\n",
    "- **We can say that for these items there is no transportation charges applied.**"
   ]
  },
  {
   "cell_type": "code",
   "execution_count": 588,
   "metadata": {},
   "outputs": [
    {
     "data": {
      "text/plain": [
       "array([ 1,  2,  5,  6,  4,  3,  7, 11, 10,  8,  9, 12, 13, 14, 15, 17, 22,\n",
       "       16, 18, 19, 21, 20, 26, 25, 24, 23], dtype=int64)"
      ]
     },
     "execution_count": 588,
     "metadata": {},
     "output_type": "execute_result"
    }
   ],
   "source": [
    "df['payment_sequential'].unique()"
   ]
  },
  {
   "cell_type": "code",
   "execution_count": 589,
   "metadata": {
    "scrolled": true
   },
   "outputs": [
    {
     "data": {
      "text/plain": [
       "1     97070\n",
       "2      2856\n",
       "3       563\n",
       "4       271\n",
       "5       153\n",
       "6       103\n",
       "7        70\n",
       "8        48\n",
       "9        39\n",
       "10       33\n",
       "11       28\n",
       "12       21\n",
       "13       13\n",
       "14       10\n",
       "15        9\n",
       "16        8\n",
       "17        8\n",
       "18        8\n",
       "19        8\n",
       "20        5\n",
       "21        5\n",
       "22        2\n",
       "25        1\n",
       "23        1\n",
       "24        1\n",
       "26        1\n",
       "Name: payment_sequential, dtype: int64"
      ]
     },
     "execution_count": 589,
     "metadata": {},
     "output_type": "execute_result"
    }
   ],
   "source": [
    "df['payment_sequential'].value_counts()"
   ]
  },
  {
   "cell_type": "markdown",
   "metadata": {},
   "source": [
    "- **We can see that there are more number of records when payment_sequential is 1.**"
   ]
  },
  {
   "cell_type": "code",
   "execution_count": 590,
   "metadata": {},
   "outputs": [
    {
     "data": {
      "text/plain": [
       "array([1, 2, 3, 4], dtype=int64)"
      ]
     },
     "execution_count": 590,
     "metadata": {},
     "output_type": "execute_result"
    }
   ],
   "source": [
    "df['payment_type'].unique()     ## The variable payment_type is a categorical variable, we need to change the datatype."
   ]
  },
  {
   "cell_type": "code",
   "execution_count": 591,
   "metadata": {},
   "outputs": [],
   "source": [
    "df['payment_type'] = df['payment_type'].astype(object)"
   ]
  },
  {
   "cell_type": "code",
   "execution_count": 592,
   "metadata": {},
   "outputs": [
    {
     "data": {
      "text/plain": [
       "array([ 2,  3,  5,  1,  4,  6,  7, 10,  9,  8, 12, 15, 13, 11, 14, 17,  0,\n",
       "       18, 16, 21, 24, 23, 20, 22], dtype=int64)"
      ]
     },
     "execution_count": 592,
     "metadata": {},
     "output_type": "execute_result"
    }
   ],
   "source": [
    "df['payment_installments'].unique()"
   ]
  },
  {
   "cell_type": "code",
   "execution_count": 593,
   "metadata": {
    "scrolled": true
   },
   "outputs": [
    {
     "data": {
      "text/plain": [
       "1     53326\n",
       "2     12475\n",
       "3     10340\n",
       "4      6816\n",
       "5      4943\n",
       "10     4121\n",
       "6      3577\n",
       "8      3400\n",
       "7      1482\n",
       "9       573\n",
       "12      106\n",
       "15       53\n",
       "11       24\n",
       "18       23\n",
       "24       19\n",
       "13       16\n",
       "14       13\n",
       "16        6\n",
       "17        6\n",
       "20        6\n",
       "21        5\n",
       "0         3\n",
       "23        1\n",
       "22        1\n",
       "Name: payment_installments, dtype: int64"
      ]
     },
     "execution_count": 593,
     "metadata": {},
     "output_type": "execute_result"
    }
   ],
   "source": [
    "df['payment_installments'].value_counts()"
   ]
  },
  {
   "cell_type": "markdown",
   "metadata": {},
   "source": [
    "- **We can see that there are more number of records when payment_installments is 1.**"
   ]
  },
  {
   "cell_type": "markdown",
   "metadata": {},
   "source": [
    "###### Lets check for Outliers in the dataset."
   ]
  },
  {
   "cell_type": "code",
   "execution_count": 594,
   "metadata": {},
   "outputs": [],
   "source": [
    "df_num = df.select_dtypes(include=np.number)\n",
    "df_num = df_num.drop('price',axis=1)"
   ]
  },
  {
   "cell_type": "code",
   "execution_count": 595,
   "metadata": {
    "scrolled": true
   },
   "outputs": [
    {
     "data": {
      "image/png": "[encoded data removed]",
      "text/plain": [
       "<Figure size 432x288 with 1 Axes>"
      ]
     },
     "metadata": {
      "needs_background": "light"
     },
     "output_type": "display_data"
    },
    {
     "data": {
      "image/png": "[encoded data removed]",
      "text/plain": [
       "<Figure size 432x288 with 1 Axes>"
      ]
     },
     "metadata": {
      "needs_background": "light"
     },
     "output_type": "display_data"
    },
    {
     "data": {
      "image/png": "[encoded data removed]",
      "text/plain": [
       "<Figure size 432x288 with 1 Axes>"
      ]
     },
     "metadata": {
      "needs_background": "light"
     },
     "output_type": "display_data"
    },
    {
     "data": {
      "image/png": "[encoded data removed]",
      "text/plain": [
       "<Figure size 432x288 with 1 Axes>"
      ]
     },
     "metadata": {
      "needs_background": "light"
     },
     "output_type": "display_data"
    },
    {
     "data": {
      "image/png": "[encoded data removed]",
      "text/plain": [
       "<Figure size 432x288 with 1 Axes>"
      ]
     },
     "metadata": {
      "needs_background": "light"
     },
     "output_type": "display_data"
    }
   ],
   "source": [
    "for i in df_num:\n",
    "    sns.boxplot(df_num[i])\n",
    "    plt.show()"
   ]
  },
  {
   "cell_type": "markdown",
   "metadata": {},
   "source": [
    "###### Lets treat the Outliers in the variables payment_value & freight_value by applying transformation techniques."
   ]
  },
  {
   "cell_type": "code",
   "execution_count": 596,
   "metadata": {},
   "outputs": [],
   "source": [
    "from sklearn.preprocessing import PowerTransformer\n",
    "pt = PowerTransformer()"
   ]
  },
  {
   "cell_type": "code",
   "execution_count": 597,
   "metadata": {},
   "outputs": [],
   "source": [
    "df.iloc[:,[2,6]] = pt.fit_transform(df.iloc[:,[2,6]])"
   ]
  },
  {
   "cell_type": "code",
   "execution_count": 598,
   "metadata": {},
   "outputs": [
    {
     "data": {
      "text/plain": [
       "<AxesSubplot:xlabel='freight_value'>"
      ]
     },
     "execution_count": 598,
     "metadata": {},
     "output_type": "execute_result"
    },
    {
     "data": {
      "image/png": "[encoded data removed]",
      "text/plain": [
       "<Figure size 432x288 with 1 Axes>"
      ]
     },
     "metadata": {
      "needs_background": "light"
     },
     "output_type": "display_data"
    }
   ],
   "source": [
    "sns.boxplot(df['freight_value'])"
   ]
  },
  {
   "cell_type": "code",
   "execution_count": 599,
   "metadata": {},
   "outputs": [
    {
     "data": {
      "text/plain": [
       "<AxesSubplot:xlabel='payment_value'>"
      ]
     },
     "execution_count": 599,
     "metadata": {},
     "output_type": "execute_result"
    },
    {
     "data": {
      "image/png": "[encoded data removed]",
      "text/plain": [
       "<Figure size 432x288 with 1 Axes>"
      ]
     },
     "metadata": {
      "needs_background": "light"
     },
     "output_type": "display_data"
    }
   ],
   "source": [
    "sns.boxplot(df['payment_value'])"
   ]
  },
  {
   "cell_type": "code",
   "execution_count": 600,
   "metadata": {},
   "outputs": [
    {
     "data": {
      "text/plain": [
       "order_item_id            7.590041\n",
       "price                    1.085329\n",
       "freight_value            0.100175\n",
       "payment_sequential      15.557169\n",
       "payment_type             1.946105\n",
       "payment_installments     1.823110\n",
       "payment_value            0.059289\n",
       "dtype: float64"
      ]
     },
     "execution_count": 600,
     "metadata": {},
     "output_type": "execute_result"
    }
   ],
   "source": [
    "df.skew()"
   ]
  },
  {
   "cell_type": "markdown",
   "metadata": {},
   "source": [
    "##### lets reduce the skewness of the variables payment_sequential by applying log root transformation technique.*"
   ]
  },
  {
   "cell_type": "code",
   "execution_count": 604,
   "metadata": {},
   "outputs": [],
   "source": [
    "df['payment_sequential'] = np.log(df['payment_sequential'])\n",
    "df['order_item_id'] = np.log(df['order_item_id'])"
   ]
  },
  {
   "cell_type": "code",
   "execution_count": 605,
   "metadata": {},
   "outputs": [
    {
     "data": {
      "text/plain": [
       "order_item_id           3.075983\n",
       "price                   1.085329\n",
       "freight_value           0.100175\n",
       "payment_sequential      6.805759\n",
       "payment_type            1.946105\n",
       "payment_installments    1.823110\n",
       "payment_value           0.059289\n",
       "dtype: float64"
      ]
     },
     "execution_count": 605,
     "metadata": {},
     "output_type": "execute_result"
    }
   ],
   "source": [
    "df.skew()"
   ]
  },
  {
   "cell_type": "markdown",
   "metadata": {},
   "source": [
    "###### We can see the features having high skewness, their skewness reduced to some extend after applying transformation techniques."
   ]
  },
  {
   "cell_type": "markdown",
   "metadata": {},
   "source": [
    "## *Univariate Analysis.*"
   ]
  },
  {
   "cell_type": "code",
   "execution_count": 607,
   "metadata": {},
   "outputs": [
    {
     "data": {
      "image/png": "[encoded data removed]",
      "text/plain": [
       "<Figure size 1296x360 with 1 Axes>"
      ]
     },
     "metadata": {
      "needs_background": "light"
     },
     "output_type": "display_data"
    }
   ],
   "source": [
    "plt.figure(figsize=[18,5])\n",
    "sns.distplot(df1['price'])\n",
    "plt.title('Distribution of feature price',fontsize=20)\n",
    "plt.show()"
   ]
  },
  {
   "cell_type": "code",
   "execution_count": 608,
   "metadata": {},
   "outputs": [
    {
     "data": {
      "image/png": "[encoded data removed]",
      "text/plain": [
       "<Figure size 1296x360 with 1 Axes>"
      ]
     },
     "metadata": {
      "needs_background": "light"
     },
     "output_type": "display_data"
    }
   ],
   "source": [
    "plt.figure(figsize=[18,5])\n",
    "sns.distplot(df1['freight_value'])\n",
    "plt.title('Distribution of feature freight_value',fontsize=20)\n",
    "plt.show()"
   ]
  },
  {
   "cell_type": "code",
   "execution_count": 609,
   "metadata": {},
   "outputs": [
    {
     "data": {
      "image/png": "[encoded data removed]",
      "text/plain": [
       "<Figure size 1296x360 with 1 Axes>"
      ]
     },
     "metadata": {
      "needs_background": "light"
     },
     "output_type": "display_data"
    }
   ],
   "source": [
    "plt.figure(figsize=[18,5])\n",
    "sns.distplot(df1['payment_value'])\n",
    "plt.title('Distribution of feature payment_value',fontsize=20)\n",
    "plt.show()"
   ]
  },
  {
   "cell_type": "markdown",
   "metadata": {},
   "source": [
    "- **Feature payment_value highly skewed towards right.**"
   ]
  },
  {
   "cell_type": "code",
   "execution_count": 610,
   "metadata": {},
   "outputs": [
    {
     "data": {
      "image/png": "[encoded data removed]",
      "text/plain": [
       "<Figure size 1296x360 with 1 Axes>"
      ]
     },
     "metadata": {
      "needs_background": "light"
     },
     "output_type": "display_data"
    }
   ],
   "source": [
    "plt.figure(figsize=[18,5])\n",
    "sns.distplot(df1['payment_installments'])\n",
    "plt.title('Distribution of feature payment_installments',fontsize=20)\n",
    "plt.show()"
   ]
  },
  {
   "cell_type": "markdown",
   "metadata": {},
   "source": [
    "- **The Feature payment_installments is skewed towards right.**"
   ]
  },
  {
   "cell_type": "code",
   "execution_count": 611,
   "metadata": {},
   "outputs": [
    {
     "data": {
      "text/plain": [
       "<AxesSubplot:ylabel='payment_type'>"
      ]
     },
     "execution_count": 611,
     "metadata": {},
     "output_type": "execute_result"
    },
    {
     "data": {
      "image/png": "[encoded data removed]",
      "text/plain": [
       "<Figure size 432x288 with 1 Axes>"
      ]
     },
     "metadata": {},
     "output_type": "display_data"
    }
   ],
   "source": [
    "df1['payment_type'].value_counts().plot(kind='pie',autopct='%1.2f%%',explode=[0.05,0.05,0.03,0.35],fontsize=8)"
   ]
  },
  {
   "cell_type": "markdown",
   "metadata": {},
   "source": [
    "- **We can see from the above piechart the payment_type 1 is having the highest frequency of the records.**\n",
    "- **The payment_type 4 is having the lowest frequency of the records.**"
   ]
  },
  {
   "cell_type": "markdown",
   "metadata": {},
   "source": [
    "## *Bivariate Analysis.*"
   ]
  },
  {
   "cell_type": "code",
   "execution_count": 612,
   "metadata": {},
   "outputs": [
    {
     "data": {
      "image/png": "[encoded data removed]",
      "text/plain": [
       "<Figure size 1296x360 with 1 Axes>"
      ]
     },
     "metadata": {
      "needs_background": "light"
     },
     "output_type": "display_data"
    }
   ],
   "source": [
    "plt.figure(figsize=[18,5])\n",
    "sns.boxplot(df1['payment_type'],df1['price'])\n",
    "plt.show()"
   ]
  },
  {
   "cell_type": "markdown",
   "metadata": {},
   "source": [
    "- **As we can see from the above boxplot the median of price for the payment_type 1 is the highest and the median of the other three payment modes slightly falls at the same value.**"
   ]
  },
  {
   "cell_type": "code",
   "execution_count": 613,
   "metadata": {},
   "outputs": [
    {
     "data": {
      "image/png": "[encoded data removed]",
      "text/plain": [
       "<Figure size 1296x360 with 1 Axes>"
      ]
     },
     "metadata": {
      "needs_background": "light"
     },
     "output_type": "display_data"
    }
   ],
   "source": [
    "plt.figure(figsize=[18,5])\n",
    "sns.scatterplot(df1['price'],df1['payment_value'])\n",
    "plt.show()"
   ]
  },
  {
   "cell_type": "markdown",
   "metadata": {},
   "source": [
    "- **As we can see from the above scatterplot there is a slight increase in the payment value when there is a increase in price.**"
   ]
  },
  {
   "cell_type": "markdown",
   "metadata": {},
   "source": [
    "## *Statistical tests of Hypothesis.*"
   ]
  },
  {
   "cell_type": "markdown",
   "metadata": {},
   "source": [
    "### Anova test (Payment_type Vs Price)"
   ]
  },
  {
   "cell_type": "code",
   "execution_count": 614,
   "metadata": {},
   "outputs": [],
   "source": [
    "df_payment_type_1 = df[df['payment_type']==1]['price']\n",
    "df_payment_type_2 = df[df['payment_type']==2]['price']\n",
    "df_payment_type_3 = df[df['payment_type']==3]['price']\n",
    "df_payment_type_4 = df[df['payment_type']==4]['price']"
   ]
  },
  {
   "cell_type": "code",
   "execution_count": 615,
   "metadata": {},
   "outputs": [
    {
     "name": "stdout",
     "output_type": "stream",
     "text": [
      "Test statistic: 184.75471132974405\n",
      "p-value: 1.7556669211812324e-119\n"
     ]
    }
   ],
   "source": [
    "from scipy import stats\n",
    "f_test, p_val = stats.f_oneway(df_payment_type_1,df_payment_type_2,df_payment_type_3,df_payment_type_4)\n",
    "print('Test statistic:', f_test)\n",
    "print('p-value:', p_val)      "
   ]
  },
  {
   "cell_type": "markdown",
   "metadata": {},
   "source": [
    "- The p-value of the Anova test is lesser than 0.05.\n",
    "- Hence we reject null hypothesis and accept alternative hypotheis.\n",
    "- **The feature payment type is significant and impacting the target feature Price.**"
   ]
  },
  {
   "cell_type": "markdown",
   "metadata": {},
   "source": [
    "### Two sample t-test, (freight_value Vs Price)"
   ]
  },
  {
   "cell_type": "markdown",
   "metadata": {},
   "source": [
    "The null and alternative hypothesis is:\n",
    "\n",
    "H<sub>0</sub>: $\\mu_{1} - \\mu_{2} = 0$<br>\n",
    "H<sub>1</sub>: $\\mu_{1} - \\mu_{2} \\neq 0$"
   ]
  },
  {
   "cell_type": "code",
   "execution_count": 616,
   "metadata": {},
   "outputs": [
    {
     "data": {
      "text/plain": [
       "Ttest_indResult(statistic=-453.1857295015249, pvalue=0.0)"
      ]
     },
     "execution_count": 616,
     "metadata": {},
     "output_type": "execute_result"
    }
   ],
   "source": [
    "from scipy.stats import ttest_ind\n",
    "ttest_ind(df['freight_value'],df['price'])"
   ]
  },
  {
   "cell_type": "markdown",
   "metadata": {},
   "source": [
    "## *`INFERENCE`*"
   ]
  },
  {
   "cell_type": "markdown",
   "metadata": {},
   "source": [
    "- The p-value of the two sample t-test is lesser than 0.05.\n",
    "- Hence we reject null hypothesis and accept alternative hypotheis.\n",
    "- **The feature freight value is significant and impacting the target feature Price.**"
   ]
  },
  {
   "cell_type": "markdown",
   "metadata": {},
   "source": [
    "### Two sample t-test, (Payment_value Vs Price)"
   ]
  },
  {
   "cell_type": "markdown",
   "metadata": {},
   "source": [
    "The null and alternative hypothesis is:\n",
    "\n",
    "H<sub>0</sub>: $\\mu_{1} - \\mu_{2} = 0$<br>\n",
    "H<sub>1</sub>: $\\mu_{1} - \\mu_{2} \\neq 0$"
   ]
  },
  {
   "cell_type": "code",
   "execution_count": 617,
   "metadata": {},
   "outputs": [
    {
     "data": {
      "text/plain": [
       "Ttest_indResult(statistic=-453.1857295015249, pvalue=0.0)"
      ]
     },
     "execution_count": 617,
     "metadata": {},
     "output_type": "execute_result"
    }
   ],
   "source": [
    "from scipy.stats import ttest_ind\n",
    "ttest_ind(df['payment_value'],df['price'])"
   ]
  },
  {
   "cell_type": "markdown",
   "metadata": {},
   "source": [
    "## *`INFERENCE`*"
   ]
  },
  {
   "cell_type": "markdown",
   "metadata": {},
   "source": [
    "- The p-value of the two sample t-test is lesser than 0.05.\n",
    "- Hence we reject null hypothesis and accept alternative hypotheis.\n",
    "- **The feature payment value is significant and impacting the target feature Price.**"
   ]
  },
  {
   "cell_type": "markdown",
   "metadata": {},
   "source": [
    "### Two sample t-test, (Payment_sequential Vs Price)"
   ]
  },
  {
   "cell_type": "markdown",
   "metadata": {},
   "source": [
    "The null and alternative hypothesis is:\n",
    "\n",
    "H<sub>0</sub>: $\\mu_{1} - \\mu_{2} = 0$<br>\n",
    "H<sub>1</sub>: $\\mu_{1} - \\mu_{2} \\neq 0$"
   ]
  },
  {
   "cell_type": "code",
   "execution_count": 618,
   "metadata": {},
   "outputs": [
    {
     "data": {
      "text/plain": [
       "Ttest_indResult(statistic=-453.02199206260565, pvalue=0.0)"
      ]
     },
     "execution_count": 618,
     "metadata": {},
     "output_type": "execute_result"
    }
   ],
   "source": [
    "from scipy.stats import ttest_ind\n",
    "ttest_ind(df['payment_sequential'],df['price'])"
   ]
  },
  {
   "cell_type": "markdown",
   "metadata": {},
   "source": [
    "## *`INFERENCE`*"
   ]
  },
  {
   "cell_type": "markdown",
   "metadata": {},
   "source": [
    "- The p-value of the two sample t-test is lesser than 0.05.\n",
    "- Hence we reject null hypothesis and accept alternative hypotheis.\n",
    "- **The feature payment value is significant and impacting the target feature Price.**"
   ]
  },
  {
   "cell_type": "code",
   "execution_count": null,
   "metadata": {},
   "outputs": [],
   "source": [
    "\n"
   ]
  },
  {
   "cell_type": "markdown",
   "metadata": {},
   "source": [
    "## *Lets label Encode the feature payment_type.*"
   ]
  },
  {
   "cell_type": "code",
   "execution_count": 619,
   "metadata": {},
   "outputs": [],
   "source": [
    "from sklearn.preprocessing import LabelEncoder\n",
    "le = LabelEncoder()"
   ]
  },
  {
   "cell_type": "code",
   "execution_count": 620,
   "metadata": {},
   "outputs": [],
   "source": [
    "df['payment_type'] = le.fit_transform(df['payment_type'])"
   ]
  },
  {
   "cell_type": "markdown",
   "metadata": {},
   "source": [
    "## *Splitting the dataset into train and test.*"
   ]
  },
  {
   "cell_type": "code",
   "execution_count": 621,
   "metadata": {},
   "outputs": [],
   "source": [
    "X = df.drop('price',axis=1)\n",
    "y = df['price']\n",
    "\n",
    "X_train,X_test,y_train,y_test = train_test_split(X,y,test_size=0.3,random_state=0)"
   ]
  },
  {
   "cell_type": "code",
   "execution_count": 622,
   "metadata": {},
   "outputs": [
    {
     "name": "stdout",
     "output_type": "stream",
     "text": [
      "(70934, 6)\n",
      "(70934,)\n",
      "(30401, 6)\n",
      "(30401,)\n"
     ]
    }
   ],
   "source": [
    "print(X_train.shape)\n",
    "print(y_train.shape)\n",
    "print(X_test.shape)\n",
    "print(y_test.shape)"
   ]
  },
  {
   "cell_type": "markdown",
   "metadata": {},
   "source": [
    "## *Scaling the data.*"
   ]
  },
  {
   "cell_type": "code",
   "execution_count": 623,
   "metadata": {},
   "outputs": [],
   "source": [
    "ss = StandardScaler()"
   ]
  },
  {
   "cell_type": "code",
   "execution_count": 624,
   "metadata": {},
   "outputs": [],
   "source": [
    "X_train.iloc[:,[0,2,4]] = ss.fit_transform(X_train.iloc[:,[0,2,4]])\n",
    "X_test.iloc[:,[0,2,4]] = ss.transform(X_test.iloc[:,[0,2,4]])"
   ]
  },
  {
   "cell_type": "code",
   "execution_count": 625,
   "metadata": {},
   "outputs": [
    {
     "data": {
      "text/html": [
       "<div>\n",
       "<style scoped>\n",
       "    .dataframe tbody tr th:only-of-type {\n",
       "        vertical-align: middle;\n",
       "    }\n",
       "\n",
       "    .dataframe tbody tr th {\n",
       "        vertical-align: top;\n",
       "    }\n",
       "\n",
       "    .dataframe thead th {\n",
       "        text-align: right;\n",
       "    }\n",
       "</style>\n",
       "<table border=\"1\" class=\"dataframe\">\n",
       "  <thead>\n",
       "    <tr style=\"text-align: right;\">\n",
       "      <th></th>\n",
       "      <th>order_item_id</th>\n",
       "      <th>freight_value</th>\n",
       "      <th>payment_sequential</th>\n",
       "      <th>payment_type</th>\n",
       "      <th>payment_installments</th>\n",
       "      <th>payment_value</th>\n",
       "    </tr>\n",
       "  </thead>\n",
       "  <tbody>\n",
       "    <tr>\n",
       "      <th>17651</th>\n",
       "      <td>-0.359166</td>\n",
       "      <td>0.068686</td>\n",
       "      <td>-0.186676</td>\n",
       "      <td>0</td>\n",
       "      <td>-0.664165</td>\n",
       "      <td>-0.325159</td>\n",
       "    </tr>\n",
       "    <tr>\n",
       "      <th>3027</th>\n",
       "      <td>-0.359166</td>\n",
       "      <td>1.910668</td>\n",
       "      <td>-0.186676</td>\n",
       "      <td>0</td>\n",
       "      <td>2.907832</td>\n",
       "      <td>0.724165</td>\n",
       "    </tr>\n",
       "  </tbody>\n",
       "</table>\n",
       "</div>"
      ],
      "text/plain": [
       "       order_item_id  freight_value  ...  payment_installments  payment_value\n",
       "17651      -0.359166       0.068686  ...             -0.664165      -0.325159\n",
       "3027       -0.359166       1.910668  ...              2.907832       0.724165\n",
       "\n",
       "[2 rows x 6 columns]"
      ]
     },
     "execution_count": 625,
     "metadata": {},
     "output_type": "execute_result"
    }
   ],
   "source": [
    "X_train.head(2)"
   ]
  },
  {
   "cell_type": "code",
   "execution_count": 626,
   "metadata": {},
   "outputs": [
    {
     "data": {
      "text/html": [
       "<div>\n",
       "<style scoped>\n",
       "    .dataframe tbody tr th:only-of-type {\n",
       "        vertical-align: middle;\n",
       "    }\n",
       "\n",
       "    .dataframe tbody tr th {\n",
       "        vertical-align: top;\n",
       "    }\n",
       "\n",
       "    .dataframe thead th {\n",
       "        text-align: right;\n",
       "    }\n",
       "</style>\n",
       "<table border=\"1\" class=\"dataframe\">\n",
       "  <thead>\n",
       "    <tr style=\"text-align: right;\">\n",
       "      <th></th>\n",
       "      <th>order_item_id</th>\n",
       "      <th>freight_value</th>\n",
       "      <th>payment_sequential</th>\n",
       "      <th>payment_type</th>\n",
       "      <th>payment_installments</th>\n",
       "      <th>payment_value</th>\n",
       "    </tr>\n",
       "  </thead>\n",
       "  <tbody>\n",
       "    <tr>\n",
       "      <th>31912</th>\n",
       "      <td>-0.359166</td>\n",
       "      <td>2.231316</td>\n",
       "      <td>-0.186676</td>\n",
       "      <td>0</td>\n",
       "      <td>2.114055</td>\n",
       "      <td>0.590878</td>\n",
       "    </tr>\n",
       "    <tr>\n",
       "      <th>3946</th>\n",
       "      <td>-0.359166</td>\n",
       "      <td>-1.474786</td>\n",
       "      <td>-0.186676</td>\n",
       "      <td>0</td>\n",
       "      <td>-0.664165</td>\n",
       "      <td>-1.572260</td>\n",
       "    </tr>\n",
       "  </tbody>\n",
       "</table>\n",
       "</div>"
      ],
      "text/plain": [
       "       order_item_id  freight_value  ...  payment_installments  payment_value\n",
       "31912      -0.359166       2.231316  ...              2.114055       0.590878\n",
       "3946       -0.359166      -1.474786  ...             -0.664165      -1.572260\n",
       "\n",
       "[2 rows x 6 columns]"
      ]
     },
     "execution_count": 626,
     "metadata": {},
     "output_type": "execute_result"
    }
   ],
   "source": [
    "X_test.head(2)"
   ]
  },
  {
   "cell_type": "markdown",
   "metadata": {},
   "source": [
    "## *Model Building*"
   ]
  },
  {
   "cell_type": "markdown",
   "metadata": {},
   "source": [
    "## *Cross Validation models.*"
   ]
  },
  {
   "cell_type": "code",
   "execution_count": 627,
   "metadata": {},
   "outputs": [],
   "source": [
    "from sklearn.model_selection import cross_validate"
   ]
  },
  {
   "cell_type": "code",
   "execution_count": 735,
   "metadata": {},
   "outputs": [
    {
     "name": "stdout",
     "output_type": "stream",
     "text": [
      "Linear regression model r2-score: 0.4352386542186041\n",
      "Linear regression model mean absolute error: 30.612738844877377\n",
      "Linear regression model root mean squared error: 42.10823081196186\n"
     ]
    }
   ],
   "source": [
    "lr = LinearRegression()\n",
    "kfold = KFold(shuffle=True,n_splits=5,random_state=0)\n",
    "scores = ['r2','neg_mean_absolute_error','neg_mean_squared_error']\n",
    "lr_model = cross_validate(lr,X,y,cv=kfold,scoring=scores)\n",
    "\n",
    "print('Linear regression model r2-score:',lr_model['test_r2'].mean())\n",
    "print('Linear regression model mean absolute error:',np.mean(np.abs(lr_model['test_neg_mean_absolute_error'])))\n",
    "print('Linear regression model root mean squared error:',np.mean(np.sqrt(np.abs(lr_model['test_neg_mean_squared_error']))))"
   ]
  },
  {
   "cell_type": "code",
   "execution_count": 736,
   "metadata": {},
   "outputs": [
    {
     "name": "stdout",
     "output_type": "stream",
     "text": [
      "Decision tree model r2-score: 0.6938857501609939\n",
      "Decision tree model mean absolute error: 11.042260807200027\n",
      "Decision tree model root mean squared error: 31.011384821670937\n"
     ]
    }
   ],
   "source": [
    "dt = DecisionTreeRegressor()\n",
    "kfold = KFold(shuffle=True,n_splits=5,random_state=0)\n",
    "scores = ['r2','neg_mean_absolute_error','neg_mean_squared_error']\n",
    "dt_model = cross_validate(dt,X,y,cv=kfold,scoring=scores)\n",
    "\n",
    "print('Decision tree model r2-score:',dt_model['test_r2'].mean())\n",
    "print('Decision tree model mean absolute error:',np.mean(np.abs(dt_model['test_neg_mean_absolute_error'])))\n",
    "print('Decision tree model root mean squared error:',np.mean(np.sqrt(np.abs(dt_model['test_neg_mean_squared_error']))))"
   ]
  },
  {
   "cell_type": "code",
   "execution_count": 737,
   "metadata": {},
   "outputs": [
    {
     "name": "stdout",
     "output_type": "stream",
     "text": [
      "Random Forest model r2-score: 0.8182806388061767\n",
      "Random Forest model mean absolute error: 10.353852131602341\n",
      "Random Forest model root mean squared error: 23.89307995215828\n"
     ]
    }
   ],
   "source": [
    "rf = RandomForestRegressor()\n",
    "kfold = KFold(shuffle=True,n_splits=5,random_state=0)\n",
    "scores = ['r2','neg_mean_absolute_error','neg_mean_squared_error']\n",
    "rf_model = cross_validate(rf,X,y,cv=kfold,scoring=scores)\n",
    "\n",
    "print('Random Forest model r2-score:',rf_model['test_r2'].mean())\n",
    "print('Random Forest model mean absolute error:',np.mean(np.abs(rf_model['test_neg_mean_absolute_error'])))\n",
    "print('Random Forest model root mean squared error:',np.mean(np.sqrt(np.abs(rf_model['test_neg_mean_squared_error']))))"
   ]
  },
  {
   "cell_type": "code",
   "execution_count": 458,
   "metadata": {},
   "outputs": [
    {
     "name": "stdout",
     "output_type": "stream",
     "text": [
      "KNN model r2-score: 0.7452324476614505\n",
      "KNN model mean absolute error: 13.55320378941136\n",
      "KNN model root mean squared error: 28.28813294285293\n"
     ]
    }
   ],
   "source": [
    "knn = KNeighborsRegressor()\n",
    "kfold = KFold(shuffle=True,n_splits=5,random_state=0)\n",
    "scores = ['r2','neg_mean_absolute_error','neg_mean_squared_error']\n",
    "knn_model = cross_validate(knn,X,y,cv=kfold,scoring=scores)\n",
    "\n",
    "print('KNN model r2-score:',knn_model['test_r2'].mean())\n",
    "print('KNN model mean absolute error:',np.mean(np.abs(knn_model['test_neg_mean_absolute_error'])))\n",
    "print('KNN model root mean squared error:',np.mean(np.sqrt(np.abs(knn_model['test_neg_mean_squared_error']))))"
   ]
  },
  {
   "cell_type": "code",
   "execution_count": 463,
   "metadata": {},
   "outputs": [
    {
     "name": "stdout",
     "output_type": "stream",
     "text": [
      "Adaboost model model r2-score: 0.6098829481316018\n",
      "Adaboost model mean absolute error: 26.406016591831825\n",
      "Adaboost model root mean squared error: 34.98263550032944\n"
     ]
    }
   ],
   "source": [
    "ada = AdaBoostRegressor()\n",
    "kfold = KFold(shuffle=True,n_splits=5,random_state=0)\n",
    "scores = ['r2','neg_mean_absolute_error','neg_mean_squared_error']\n",
    "ada_model = cross_validate(ada,X,y,cv=kfold,scoring=scores)\n",
    "\n",
    "print('Adaboost model model r2-score:',ada_model['test_r2'].mean())\n",
    "print('Adaboost model mean absolute error:',np.mean(np.abs(ada_model['test_neg_mean_absolute_error'])))\n",
    "print('Adaboost model root mean squared error:',np.mean(np.sqrt(np.abs(ada_model['test_neg_mean_squared_error']))))"
   ]
  },
  {
   "cell_type": "code",
   "execution_count": 462,
   "metadata": {},
   "outputs": [
    {
     "name": "stdout",
     "output_type": "stream",
     "text": [
      "Gradient boost model model r2-score: 0.7668767885811213\n",
      "Gradient boost model mean absolute error: 15.28571386945202\n",
      "Gradient model root mean squared error: 27.060390421872455\n"
     ]
    }
   ],
   "source": [
    "gb = GradientBoostingRegressor()\n",
    "kfold = KFold(shuffle=True,n_splits=5,random_state=0)\n",
    "scores = ['r2','neg_mean_absolute_error','neg_mean_squared_error']\n",
    "gb_model = cross_validate(gb,X,y,cv=kfold,scoring=scores)\n",
    "\n",
    "print('Gradient boost model model r2-score:',gb_model['test_r2'].mean())\n",
    "print('Gradient boost model mean absolute error:',np.mean(np.abs(gb_model['test_neg_mean_absolute_error'])))\n",
    "print('Gradient model root mean squared error:',np.mean(np.sqrt(np.abs(gb_model['test_neg_mean_squared_error']))))"
   ]
  },
  {
   "cell_type": "code",
   "execution_count": 733,
   "metadata": {},
   "outputs": [
    {
     "name": "stdout",
     "output_type": "stream",
     "text": [
      "Xtreme Gradient boost model model r2-score: 0.8163463362704366\n",
      "Xtreme Gradient boost model absolute error: 12.338000439797622\n",
      "Xtreme Gradient model root mean squared error: 24.018409748230244\n"
     ]
    }
   ],
   "source": [
    "xgb = XGBRegressor()\n",
    "kfold = KFold(shuffle=True,n_splits=5,random_state=0)\n",
    "scores = ['r2','neg_mean_absolute_error','neg_mean_squared_error']\n",
    "xgb_model = cross_validate(xgb,X,y,cv=kfold,scoring=scores)\n",
    "\n",
    "print('Xtreme Gradient boost model model r2-score:',xgb_model['test_r2'].mean())\n",
    "print('Xtreme Gradient boost model absolute error:',np.mean(np.abs(xgb_model['test_neg_mean_absolute_error'])))\n",
    "print('Xtreme Gradient model root mean squared error:',np.mean(np.sqrt(np.abs(xgb_model['test_neg_mean_squared_error']))))"
   ]
  },
  {
   "cell_type": "code",
   "execution_count": 464,
   "metadata": {},
   "outputs": [
    {
     "name": "stdout",
     "output_type": "stream",
     "text": [
      "Boosted RF model model r2-score: 0.8179696996016993\n",
      "Boosted RF model mean absolute error: 12.763432064515152\n",
      "Boosted RF model root mean squared error: 23.91335987352443\n"
     ]
    }
   ],
   "source": [
    "rf = RandomForestRegressor()\n",
    "rf_boost = AdaBoostRegressor(base_estimator=rf)\n",
    "kfold = KFold(shuffle=True,n_splits=5,random_state=0)\n",
    "scores = ['r2','neg_mean_absolute_error','neg_mean_squared_error']\n",
    "rf_boost_model = cross_validate(rf_boost,X,y,cv=kfold,scoring=scores)\n",
    "\n",
    "print('Boosted RF model model r2-score:',rf_boost_model['test_r2'].mean())\n",
    "print('Boosted RF model mean absolute error:',np.mean(np.abs(rf_boost_model['test_neg_mean_absolute_error'])))\n",
    "print('Boosted RF model root mean squared error:',np.mean(np.sqrt(np.abs(rf_boost_model['test_neg_mean_squared_error']))))"
   ]
  },
  {
   "cell_type": "code",
   "execution_count": null,
   "metadata": {},
   "outputs": [],
   "source": [
    "\n"
   ]
  },
  {
   "cell_type": "markdown",
   "metadata": {},
   "source": [
    "## *Comparison of results of the models built.*"
   ]
  },
  {
   "cell_type": "code",
   "execution_count": 738,
   "metadata": {},
   "outputs": [
    {
     "name": "stdout",
     "output_type": "stream",
     "text": [
      "Linear regression model r2-score: 0.4352386542186041\n",
      "Linear regression model mean absolute error: 30.612738844877377\n",
      "Linear regression model root mean squared error: 42.10823081196186\n",
      "~~~~~~~~~~~~~~~~~~~~~~~~~~~~~~~~~~~~~~~~~~~~~~~~~~~~~~~~~~~~~~~~~~~~~~~~~~~~~~~~~~~~~~~~~~~~~~~~~~~~\n",
      "Decision tree model r2-score: 0.6938857501609939\n",
      "Decision tree model mean absolute error: 11.042260807200027\n",
      "Decision tree model root mean squared error: 31.011384821670937\n",
      "~~~~~~~~~~~~~~~~~~~~~~~~~~~~~~~~~~~~~~~~~~~~~~~~~~~~~~~~~~~~~~~~~~~~~~~~~~~~~~~~~~~~~~~~~~~~~~~~~~~~\n",
      "\u001b[1;46;13m Random Forest model r2-score:\u001b[0;0m 0.8182806388061767\n",
      "\u001b[1;46;13m Random Forest model mean absolute error:\u001b[0;0m 10.353852131602341\n",
      "\u001b[1;46;13m Random Forest model root mean squared error:\u001b[0;0m 23.89307995215828\n",
      "~~~~~~~~~~~~~~~~~~~~~~~~~~~~~~~~~~~~~~~~~~~~~~~~~~~~~~~~~~~~~~~~~~~~~~~~~~~~~~~~~~~~~~~~~~~~~~~~~~~~\n",
      "KNN model r2-score: 0.7452324476614505\n",
      "KNN model mean absolute error: 13.55320378941136\n",
      "KNN model root mean squared error: 28.28813294285293\n",
      "~~~~~~~~~~~~~~~~~~~~~~~~~~~~~~~~~~~~~~~~~~~~~~~~~~~~~~~~~~~~~~~~~~~~~~~~~~~~~~~~~~~~~~~~~~~~~~~~~~~~\n",
      "Adaboost model model r2-score: 0.6098829481316018\n",
      "Adaboost model mean absolute error: 26.406016591831825\n",
      "Adaboost model root mean squared error: 34.98263550032944\n",
      "~~~~~~~~~~~~~~~~~~~~~~~~~~~~~~~~~~~~~~~~~~~~~~~~~~~~~~~~~~~~~~~~~~~~~~~~~~~~~~~~~~~~~~~~~~~~~~~~~~~~\n",
      "Gradient boost model model r2-score: 0.7668767885811213\n",
      "Gradient boost model mean absolute error: 15.28571386945202\n",
      "Gradient model root mean squared error: 27.060390421872455\n",
      "~~~~~~~~~~~~~~~~~~~~~~~~~~~~~~~~~~~~~~~~~~~~~~~~~~~~~~~~~~~~~~~~~~~~~~~~~~~~~~~~~~~~~~~~~~~~~~~~~~~~\n",
      "\u001b[1;46;13m Xtreme Gradient boost model model r2-score:\u001b[0;0m 0.8163463362704366\n",
      "\u001b[1;46;13m Xtreme Gradient boost model mean absolute error:\u001b[0;0m 12.338000439797622\n",
      "\u001b[1;46;13m Xtreme Gradient model root mean squared error:\u001b[0;0m 24.018409748230244\n",
      "~~~~~~~~~~~~~~~~~~~~~~~~~~~~~~~~~~~~~~~~~~~~~~~~~~~~~~~~~~~~~~~~~~~~~~~~~~~~~~~~~~~~~~~~~~~~~~~~~~~~\n",
      "Boosted RF model model r2-score: 0.8179696996016993\n",
      "Boosted RF model mean absolute error: 12.763432064515152\n",
      "Boosted RF model root mean squared error: 23.91335987352443\n",
      "~~~~~~~~~~~~~~~~~~~~~~~~~~~~~~~~~~~~~~~~~~~~~~~~~~~~~~~~~~~~~~~~~~~~~~~~~~~~~~~~~~~~~~~~~~~~~~~~~~~~\n"
     ]
    }
   ],
   "source": [
    "print('Linear regression model r2-score:',lr_model['test_r2'].mean())\n",
    "print('Linear regression model mean absolute error:',np.mean(np.abs(lr_model['test_neg_mean_absolute_error'])))\n",
    "print('Linear regression model root mean squared error:',np.mean(np.sqrt(np.abs(lr_model['test_neg_mean_squared_error']))))\n",
    "print('~'*100)\n",
    "print('Decision tree model r2-score:',dt_model['test_r2'].mean())\n",
    "print('Decision tree model mean absolute error:',np.mean(np.abs(dt_model['test_neg_mean_absolute_error'])))\n",
    "print('Decision tree model root mean squared error:',np.mean(np.sqrt(np.abs(dt_model['test_neg_mean_squared_error']))))\n",
    "print('~'*100)\n",
    "print('\\033[1;46;13m Random Forest model r2-score:\\033[0;0m',rf_model['test_r2'].mean())\n",
    "print('\\033[1;46;13m Random Forest model mean absolute error:\\033[0;0m',np.mean(np.abs(rf_model['test_neg_mean_absolute_error'])))\n",
    "print('\\033[1;46;13m Random Forest model root mean squared error:\\033[0;0m',np.mean(np.sqrt(np.abs(rf_model['test_neg_mean_squared_error']))))\n",
    "print('~'*100)\n",
    "print('KNN model r2-score:',knn_model['test_r2'].mean())\n",
    "print('KNN model mean absolute error:',np.mean(np.abs(knn_model['test_neg_mean_absolute_error'])))\n",
    "print('KNN model root mean squared error:',np.mean(np.sqrt(np.abs(knn_model['test_neg_mean_squared_error']))))\n",
    "print('~'*100)\n",
    "print('Adaboost model model r2-score:',ada_model['test_r2'].mean())\n",
    "print('Adaboost model mean absolute error:',np.mean(np.abs(ada_model['test_neg_mean_absolute_error'])))\n",
    "print('Adaboost model root mean squared error:',np.mean(np.sqrt(np.abs(ada_model['test_neg_mean_squared_error']))))\n",
    "print('~'*100)\n",
    "print('Gradient boost model model r2-score:',gb_model['test_r2'].mean())\n",
    "print('Gradient boost model mean absolute error:',np.mean(np.abs(gb_model['test_neg_mean_absolute_error'])))\n",
    "print('Gradient model root mean squared error:',np.mean(np.sqrt(np.abs(gb_model['test_neg_mean_squared_error']))))\n",
    "print('~'*100)\n",
    "print('\\033[1;46;13m Xtreme Gradient boost model model r2-score:\\033[0;0m',xgb_model['test_r2'].mean())\n",
    "print('\\033[1;46;13m Xtreme Gradient boost model mean absolute error:\\033[0;0m',np.mean(np.abs(xgb_model['test_neg_mean_absolute_error'])))\n",
    "print('\\033[1;46;13m Xtreme Gradient model root mean squared error:\\033[0;0m',np.mean(np.sqrt(np.abs(xgb_model['test_neg_mean_squared_error']))))\n",
    "print('~'*100)\n",
    "print('Boosted RF model model r2-score:',rf_boost_model['test_r2'].mean())\n",
    "print('Boosted RF model mean absolute error:',np.mean(np.abs(rf_boost_model['test_neg_mean_absolute_error'])))\n",
    "print('Boosted RF model root mean squared error:',np.mean(np.sqrt(np.abs(rf_boost_model['test_neg_mean_squared_error']))))\n",
    "print('~'*100)"
   ]
  },
  {
   "cell_type": "markdown",
   "metadata": {},
   "source": [
    "## *The highlighted two models are performing good with highest r2-score and the least mean absolute error and root mean squared error among all the other models.*"
   ]
  },
  {
   "cell_type": "markdown",
   "metadata": {},
   "source": [
    "## *Hyperparameter Tuning*"
   ]
  },
  {
   "cell_type": "code",
   "execution_count": 526,
   "metadata": {},
   "outputs": [
    {
     "data": {
      "text/plain": [
       "GridSearchCV(cv=3, estimator=RandomForestRegressor(random_state=0),\n",
       "             param_grid=[{'max_depth': [10, 15, 20],\n",
       "                          'min_samples_leaf': [1, 5, 9],\n",
       "                          'min_samples_split': [2, 5, 8, 11],\n",
       "                          'n_estimators': [10, 30, 50, 70, 90]}],\n",
       "             scoring='r2')"
      ]
     },
     "execution_count": 526,
     "metadata": {},
     "output_type": "execute_result"
    }
   ],
   "source": [
    "rf = RandomForestRegressor(random_state=0)\n",
    "params = [{'n_estimators':[10,30,50,70,90],\n",
    "            'max_depth':[10,15,20],\n",
    "            'min_samples_split':[2,5,8,11],\n",
    "            'min_samples_leaf':[1,5,9]}]\n",
    "gsearch_rf = GridSearchCV(estimator=rf, param_grid=params, cv=3, scoring='r2')\n",
    "gsearch_rf.fit(X_train,y_train)"
   ]
  },
  {
   "cell_type": "code",
   "execution_count": 527,
   "metadata": {},
   "outputs": [
    {
     "data": {
      "text/plain": [
       "{'max_depth': 20,\n",
       " 'min_samples_leaf': 1,\n",
       " 'min_samples_split': 5,\n",
       " 'n_estimators': 90}"
      ]
     },
     "execution_count": 527,
     "metadata": {},
     "output_type": "execute_result"
    }
   ],
   "source": [
    "gsearch_rf.best_params_"
   ]
  },
  {
   "cell_type": "markdown",
   "metadata": {},
   "source": [
    "## *From Hyperparameter tuning we got n_estimators as 90, min_samples_leaf as 1, min samples split as 5 & max depth as 5, lets build the model using the best hyperparameter obtained from gridsearch.*"
   ]
  },
  {
   "cell_type": "code",
   "execution_count": 528,
   "metadata": {},
   "outputs": [
    {
     "name": "stdout",
     "output_type": "stream",
     "text": [
      "Random Forest model r2-score: 0.8119027323826833\n",
      "Random Forest model mean absolute error: 11.157040174193037\n",
      "Random Forest model root mean squared error: 24.310588749360225\n"
     ]
    }
   ],
   "source": [
    "rf = RandomForestRegressor(n_estimators=90,max_depth=20,min_samples_leaf=1,min_samples_split=5)\n",
    "kfold = KFold(shuffle=True,n_splits=3,random_state=0)\n",
    "scores = ['r2','neg_mean_absolute_error','neg_mean_squared_error']\n",
    "rf_model = cross_validate(rf,X,y,cv=kfold,scoring=scores)\n",
    "\n",
    "print('Random Forest model r2-score:',rf_model['test_r2'].mean())\n",
    "print('Random Forest model mean absolute error:',np.mean(np.abs(rf_model['test_neg_mean_absolute_error'])))\n",
    "print('Random Forest model root mean squared error:',np.mean(np.sqrt(np.abs(rf_model['test_neg_mean_squared_error']))))"
   ]
  },
  {
   "cell_type": "markdown",
   "metadata": {},
   "source": [
    "## *After Hyperparameter tuning also there is no significant change in the results, So lets consider Random Forest Regressor model as the best performing model compare to other models.*"
   ]
  },
  {
   "cell_type": "markdown",
   "metadata": {},
   "source": [
    "## *Comparison of results of base model Vs Final model.*"
   ]
  },
  {
   "cell_type": "code",
   "execution_count": 739,
   "metadata": {},
   "outputs": [
    {
     "name": "stdout",
     "output_type": "stream",
     "text": [
      "\u001b[1;46;13m Base model:- \u001b[0;0m\n",
      "Linear regression model r2-score: 0.4352386542186041\n",
      "Linear regression model mean absolute error: 30.612738844877377\n",
      "Linear regression model root mean squared error: 42.10823081196186\n",
      "~~~~~~~~~~~~~~~~~~~~~~~~~~~~~~~~~~~~~~~~~~~~~~~~~~~~~~~~~~~~~~~~~~~~~~~~~~~~~~~~~~~~~~~~~~~~~~~~~~~~\n",
      "\u001b[1;46;13m Final model:- \u001b[0;0m\n",
      "Random Forest model r2-score: 0.8182806388061767\n",
      "Random Forest model mean absolute error: 10.353852131602341\n",
      "Random Forest model root mean squared error: 23.89307995215828\n"
     ]
    }
   ],
   "source": [
    "print('\\033[1;46;13m Base model:- \\033[0;0m')\n",
    "print('Linear regression model r2-score:',lr_model['test_r2'].mean())\n",
    "print('Linear regression model mean absolute error:',np.mean(np.abs(lr_model['test_neg_mean_absolute_error'])))\n",
    "print('Linear regression model root mean squared error:',np.mean(np.sqrt(np.abs(lr_model['test_neg_mean_squared_error']))))\n",
    "print('~'*100)\n",
    "print('\\033[1;46;13m Final model:- \\033[0;0m')\n",
    "print('Random Forest model r2-score:',rf_model['test_r2'].mean())\n",
    "print('Random Forest model mean absolute error:',np.mean(np.abs(rf_model['test_neg_mean_absolute_error'])))\n",
    "print('Random Forest model root mean squared error:',np.mean(np.sqrt(np.abs(rf_model['test_neg_mean_squared_error']))))"
   ]
  },
  {
   "cell_type": "markdown",
   "metadata": {},
   "source": [
    "## *`We Choose Random Forest Regressor model as the Final model.`*\n",
    "- **We can see that the r2-score for base model is 0.43 and RMSE is 42.10.**\n",
    "- **For the final model the r2-score is 0.81 and RMSE is 23.89.**\n",
    "- **from base model to final model, we can see an significant increase in the r2-score by minimizing the rmse.**"
   ]
  },
  {
   "cell_type": "code",
   "execution_count": null,
   "metadata": {},
   "outputs": [],
   "source": [
    "\n"
   ]
  },
  {
   "cell_type": "markdown",
   "metadata": {},
   "source": [
    "## *Pickling - Creating a pickle file with an extension as .pkl*"
   ]
  },
  {
   "cell_type": "code",
   "execution_count": 722,
   "metadata": {},
   "outputs": [],
   "source": [
    "# Saving model to disk\n",
    "pickle.dump(rf, open('model.pkl','wb'))\n",
    "\n",
    "# Loading model to compare the results\n",
    "model = pickle.load(open('model.pkl','rb'))"
   ]
  },
  {
   "cell_type": "code",
   "execution_count": 776,
   "metadata": {},
   "outputs": [
    {
     "data": {
      "text/plain": [
       "array([172.6509])"
      ]
     },
     "execution_count": 776,
     "metadata": {},
     "output_type": "execute_result"
    }
   ],
   "source": [
    "model.predict([[1,20,1,2,2,100]])"
   ]
  },
  {
   "cell_type": "code",
   "execution_count": null,
   "metadata": {},
   "outputs": [],
   "source": []
  }
 ],
 "metadata": {
  "kernelspec": {
   "display_name": "Python 3",
   "language": "python",
   "name": "python3"
  },
  "language_info": {
   "codemirror_mode": {
    "name": "ipython",
    "version": 3
   },
   "file_extension": ".py",
   "mimetype": "text/x-python",
   "name": "python",
   "nbconvert_exporter": "python",
   "pygments_lexer": "ipython3",
   "version": "3.8.5"
  }
 },
 "nbformat": 4,
 "nbformat_minor": 4
}
